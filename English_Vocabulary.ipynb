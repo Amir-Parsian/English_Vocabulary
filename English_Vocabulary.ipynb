{
 "cells": [
  {
   "cell_type": "markdown",
   "metadata": {},
   "source": [
    "# Finding high-frequency words tweets\n",
    "In this notebook, a map-reduce procedure is used here to find words which have a high frequency in the unique tweets (this means retweets are excluded from analysis).\n",
    "\n",
    "Download a tweets from  json from archive.org (https://archive.org/search.php?query=tweets). For every given minute there is .bz2 file and all files for every hour is given in separate folders. These files contains tweets in form of json.\n",
    "\n",
    "Mapper and reducer files are below. The analysis is for one hour of tweets.\n",
    "The first line in the cell save the rest of the cell as .py file. If you want to do this manually, remove the first line and save the cell content."
   ]
  },
  {
   "cell_type": "code",
   "execution_count": 169,
   "metadata": {},
   "outputs": [
    {
     "name": "stdout",
     "output_type": "stream",
     "text": [
      "Overwriting mapper_unique_tweets.py\n"
     ]
    }
   ],
   "source": [
    "%%writefile mapper_unique_tweets.py \n",
    "#!/usr/bin/env python\n",
    "import sys\n",
    "import json\n",
    "for currentTweet in sys.stdin:\n",
    "    try:\n",
    "        if currentTweet.strip() != \"\":  \n",
    "            currentTweet = currentTweet.lower().strip() \n",
    "            if not ('retweeted_status' in currentTweet):\n",
    "                #currentTweetText = json.loads(currentTweet)['text']\n",
    "                print('Unique_tweet', 1)\n",
    "            else:\n",
    "                print('Retweet',1)\n",
    "            print('Total',1)\n",
    "    except:\n",
    "        print('Error',1)"
   ]
  },
  {
   "cell_type": "code",
   "execution_count": 170,
   "metadata": {},
   "outputs": [
    {
     "name": "stdout",
     "output_type": "stream",
     "text": [
      "Overwriting reducer.py\n"
     ]
    }
   ],
   "source": [
    "%%writefile reducer.py \n",
    "#!/usr/bin/env python\n",
    "# source for reducer file: https://www.michael-noll.com/tutorials/writing-an-hadoop-mapreduce-program-in-python/\n",
    "import sys\n",
    "\n",
    "current_word = None\n",
    "current_count = 0\n",
    "word = None\n",
    "\n",
    "for line in sys.stdin:\n",
    "    line = line.strip()\n",
    "    word, count = line.split(' ', 1)\n",
    "    try:\n",
    "        count = int(count)\n",
    "    except ValueError:\n",
    "        print('count_error')\n",
    "    if current_word == word:\n",
    "        current_count += count\n",
    "    else:\n",
    "        if current_word:\n",
    "            print(current_word, current_count)\n",
    "        current_count = count\n",
    "        current_word = word\n",
    "\n",
    "if current_word == word:\n",
    "    print(current_word, current_count)"
   ]
  },
  {
   "cell_type": "markdown",
   "metadata": {},
   "source": [
    "### run map reduce \n",
    " run the following command in the command line:\n",
    " \n",
    " *bzcat *.bz2 | ./mapper_unique_tweets.py | sort -k1,1 | ./reducer.py*\n",
    " \n",
    " Another alternative is to write the above command in a shell script as follows. This .sh file write the result in output.txt"
   ]
  },
  {
   "cell_type": "code",
   "execution_count": 171,
   "metadata": {},
   "outputs": [
    {
     "name": "stdout",
     "output_type": "stream",
     "text": [
      "Overwriting mapreduce.sh\n"
     ]
    }
   ],
   "source": [
    "%%writefile mapreduce.sh\n",
    "bzcat *.bz2 | ./mapper_unique_tweets.py | sort -k1,1 | ./reducer.py > output.txt"
   ]
  },
  {
   "cell_type": "markdown",
   "metadata": {},
   "source": [
    "After that you can run the .sh file and print the output text."
   ]
  },
  {
   "cell_type": "code",
   "execution_count": 172,
   "metadata": {},
   "outputs": [
    {
     "name": "stdout",
     "output_type": "stream",
     "text": [
      "Retweet 55770\n",
      "Total 221049\n",
      "Unique_tweet 165279\n"
     ]
    }
   ],
   "source": [
    "!mapreduce.sh\n",
    "!cat output.txt"
   ]
  },
  {
   "cell_type": "code",
   "execution_count": null,
   "metadata": {},
   "outputs": [],
   "source": []
  }
 ],
 "metadata": {
  "kernelspec": {
   "display_name": "Python 3",
   "language": "python",
   "name": "python3"
  },
  "language_info": {
   "codemirror_mode": {
    "name": "ipython",
    "version": 3
   },
   "file_extension": ".py",
   "mimetype": "text/x-python",
   "name": "python",
   "nbconvert_exporter": "python",
   "pygments_lexer": "ipython3",
   "version": "3.7.4"
  }
 },
 "nbformat": 4,
 "nbformat_minor": 4
}
