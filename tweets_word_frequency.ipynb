{
 "cells": [
  {
   "cell_type": "markdown",
   "metadata": {},
   "source": [
    "# Finding high-frequency words in tweets\n",
    "In this notebook, a map-reduce procedure is used here to find words which have a high frequency in the unique tweets (this means retweets are excluded from analysis).\n",
    "\n",
    "Download a tweets from  json from archive.org (https://archive.org/search.php?query=tweets). For every given minute there is .bz2 file and all files for every hour is given in separate folders. These files contains tweets in form of json.\n",
    "\n",
    "Mapper and reducer files are below. The analysis is for one hour of tweets.\n",
    "The first line in the cell save the rest of the cell as .py file. If you want to do this manually, remove the first line and save the cell content."
   ]
  },
  {
   "cell_type": "code",
   "execution_count": 2,
   "metadata": {},
   "outputs": [
    {
     "name": "stdout",
     "output_type": "stream",
     "text": [
      "Overwriting mapper_vocab_freq.py\n"
     ]
    }
   ],
   "source": [
    "%%writefile mapper_vocab_freq.py \n",
    "#!/usr/bin/env python\n",
    "import sys\n",
    "import json\n",
    "\n",
    "      \n",
    "for currentTweet in sys.stdin:\n",
    "    #try:\n",
    "    if currentTweet.strip() != \"\":\n",
    "        currentTweet = currentTweet.lower().strip()  \n",
    "        json_dic = json.loads(currentTweet)\n",
    "        if 'text' in json_dic:\n",
    "            currentTweetText = json_dic['text']\n",
    "            # The following line replace all special character in the string with a space\n",
    "            currentTweetText = currentTweetText.translate ({ord(ch): \" \" for ch in '\"\\'!@#$%^&*()[]{};:,./<>?\\|`~-=_+0123456789'})\n",
    "            list_of_words = currentTweetText.lower().split()\n",
    "            for word in list_of_words:\n",
    "                if not (word in 'abcdefghijklmnopqrstuvwxyz'):\n",
    "                    print(word,1)\n",
    "    #except:\n",
    "    #    print('Error',1)"
   ]
  },
  {
   "cell_type": "code",
   "execution_count": 9,
   "metadata": {},
   "outputs": [
    {
     "name": "stdout",
     "output_type": "stream",
     "text": [
      "Overwriting reducer.py\n"
     ]
    }
   ],
   "source": [
    "%%writefile reducer.py \n",
    "#!/usr/bin/env python\n",
    "# source for reducer file: https://www.michael-noll.com/tutorials/writing-an-hadoop-mapreduce-program-in-python/\n",
    "import sys\n",
    "\n",
    "current_word = None\n",
    "current_count = 0\n",
    "word = None\n",
    "\n",
    "for line in sys.stdin:\n",
    "    line = line.strip()\n",
    "    word, count = line.split(' ', 1)\n",
    "    try:\n",
    "        count = int(count)\n",
    "    except ValueError:\n",
    "        print('count_error')\n",
    "    if current_word == word:\n",
    "        current_count += count\n",
    "    else:\n",
    "        if current_word:\n",
    "            text_to_print = current_word + ',' + str(current_count)\n",
    "            print(text_to_print)\n",
    "            #print(current_word, current_count)\n",
    "        current_count = count\n",
    "        current_word = word\n",
    "\n",
    "if current_word == word:\n",
    "    #text_to_print = current_word + ',' + str(current_count)\n",
    "    #print(current_word,current_count)\n",
    "    print(current_word)\n",
    "    #print(text_to_print)"
   ]
  },
  {
   "cell_type": "markdown",
   "metadata": {},
   "source": [
    "### run map reduce \n",
    " run the following command in the command line:\n",
    " \n",
    " *bzcat *.bz2 | ./mapper_unique_tweets.py | sort -k1,1 | ./reducer.py*\n",
    " \n",
    " Another alternative is to write the above command in a shell script as follows. This .sh file write the result in output.csv"
   ]
  },
  {
   "cell_type": "code",
   "execution_count": 204,
   "metadata": {},
   "outputs": [
    {
     "name": "stdout",
     "output_type": "stream",
     "text": [
      "Overwriting mapreduce.sh\n"
     ]
    }
   ],
   "source": [
    "%%writefile mapreduce.sh\n",
    "echo 'word,freq' > output.csv\n",
    "bzcat *.bz2 | ./mapper_vocab_freq.py | sort -k1,1 | ./reducer.py >> output.csv"
   ]
  },
  {
   "cell_type": "markdown",
   "metadata": {},
   "source": [
    "After that you can run the .sh file to create .csv file."
   ]
  },
  {
   "cell_type": "code",
   "execution_count": 205,
   "metadata": {},
   "outputs": [],
   "source": [
    "!mapreduce.sh"
   ]
  },
  {
   "cell_type": "markdown",
   "metadata": {},
   "source": [
    "Now we can process the csv file"
   ]
  },
  {
   "cell_type": "code",
   "execution_count": 3,
   "metadata": {},
   "outputs": [
    {
     "data": {
      "text/plain": [
       "0"
      ]
     },
     "execution_count": 3,
     "metadata": {},
     "output_type": "execute_result"
    }
   ],
   "source": [
    "import csv\n",
    "d = {}\n",
    "\n",
    "with open('output.csv', newline='\\n') as csvfile:\n",
    "    reader = csv.DictReader(csvfile)\n",
    "    for row in reader:\n",
    "        d[row['word']] = int(row['freq'])\n",
    "\n",
    "sorted_dict = dict(sorted(d.items(), key=lambda item: item[1],reverse=True))\n",
    "number_of_distinct_words = len(sorted_dict)\n",
    "number_of_distinct_words"
   ]
  },
  {
   "cell_type": "code",
   "execution_count": 4,
   "metadata": {},
   "outputs": [],
   "source": [
    "top_1000 = {k: sorted_dict[k] for k in list(sorted_dict)[:1000]}"
   ]
  },
  {
   "cell_type": "code",
   "execution_count": 5,
   "metadata": {},
   "outputs": [
    {
     "data": {
      "text/plain": [
       "{}"
      ]
     },
     "execution_count": 5,
     "metadata": {},
     "output_type": "execute_result"
    }
   ],
   "source": [
    "top_1000"
   ]
  },
  {
   "cell_type": "code",
   "execution_count": null,
   "metadata": {},
   "outputs": [],
   "source": []
  },
  {
   "cell_type": "code",
   "execution_count": null,
   "metadata": {},
   "outputs": [],
   "source": []
  }
 ],
 "metadata": {
  "kernelspec": {
   "display_name": "Python 3",
   "language": "python",
   "name": "python3"
  },
  "language_info": {
   "codemirror_mode": {
    "name": "ipython",
    "version": 3
   },
   "file_extension": ".py",
   "mimetype": "text/x-python",
   "name": "python",
   "nbconvert_exporter": "python",
   "pygments_lexer": "ipython3",
   "version": "3.7.4"
  }
 },
 "nbformat": 4,
 "nbformat_minor": 4
}
